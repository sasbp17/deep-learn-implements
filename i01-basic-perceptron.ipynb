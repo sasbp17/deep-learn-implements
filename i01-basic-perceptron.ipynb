{
 "cells": [
  {
   "cell_type": "markdown",
   "id": "0a766207-c166-4be6-b5c0-841f55114997",
   "metadata": {
    "tags": []
   },
   "source": [
    "# 1. Basic Perceptron\n",
    " ---\n",
    "### This ipynb, shows the basic implementation of a perceptron model, that can take in real valued inputs as inputs and weights, and aggregates them with a bias. It then passes it through an activation func, and gives the output."
   ]
  },
  {
   "cell_type": "code",
   "execution_count": 14,
   "id": "911befa1-b1a6-47f7-9160-143e89196c28",
   "metadata": {},
   "outputs": [],
   "source": [
    "import numpy as np\n",
    "from tensorflow.keras import activations as act"
   ]
  },
  {
   "cell_type": "code",
   "execution_count": 10,
   "id": "d5f9ff1b-cd0b-4528-868d-e490ac35ed67",
   "metadata": {},
   "outputs": [
    {
     "name": "stdout",
     "output_type": "stream",
     "text": [
      "[[2.37904976]\n",
      " [2.54430123]\n",
      " [5.45800205]]\n"
     ]
    }
   ],
   "source": [
    "input = np.random.uniform(1, 6, [3, 1])\n",
    "print(input)"
   ]
  },
  {
   "cell_type": "code",
   "execution_count": 11,
   "id": "1e827697-ed5e-475e-a3f4-10ab69b3d3dc",
   "metadata": {},
   "outputs": [
    {
     "name": "stdout",
     "output_type": "stream",
     "text": [
      "[[4.88743187 4.48756724 2.62395713]\n",
      " [2.73196571 3.71690772 3.4214395 ]\n",
      " [4.62717226 4.85354047 4.32148228]]\n"
     ]
    }
   ],
   "source": [
    "weights = np.random.uniform(2, 5, [3, 3])\n",
    "print(weights)"
   ]
  },
  {
   "cell_type": "code",
   "execution_count": 12,
   "id": "e690608e-7f15-4856-b39d-41c8f024d626",
   "metadata": {},
   "outputs": [
    {
     "name": "stdout",
     "output_type": "stream",
     "text": [
      "[[2.45277064]\n",
      " [1.48167057]\n",
      " [1.82878593]]\n"
     ]
    }
   ],
   "source": [
    "bias = np.random.uniform(1, 3, [3, 1])\n",
    "print(bias)"
   ]
  },
  {
   "cell_type": "code",
   "execution_count": 13,
   "id": "bbb4649e-c7fc-46c0-887f-6550e255f055",
   "metadata": {},
   "outputs": [
    {
     "name": "stdout",
     "output_type": "stream",
     "text": [
      "[[46.28627368]\n",
      " [48.10538305]\n",
      " [40.36314236]]\n"
     ]
    }
   ],
   "source": [
    "agg = np.dot(weights.T, input) + bias\n",
    "print(agg)"
   ]
  },
  {
   "cell_type": "code",
   "execution_count": 18,
   "id": "565e9521-8998-4066-b133-4df57e58beb3",
   "metadata": {},
   "outputs": [
    {
     "data": {
      "text/plain": [
       "array([[48.63303346],\n",
       "       [50.54437346],\n",
       "       [42.40959353]])"
      ]
     },
     "execution_count": 18,
     "metadata": {},
     "output_type": "execute_result"
    }
   ],
   "source": [
    "yhat = np.array(act.selu(agg))\n",
    "yhat"
   ]
  }
 ],
 "metadata": {
  "kernelspec": {
   "display_name": "hf",
   "language": "python",
   "name": "hf"
  },
  "language_info": {
   "codemirror_mode": {
    "name": "ipython",
    "version": 3
   },
   "file_extension": ".py",
   "mimetype": "text/x-python",
   "name": "python",
   "nbconvert_exporter": "python",
   "pygments_lexer": "ipython3",
   "version": "3.9.12"
  }
 },
 "nbformat": 4,
 "nbformat_minor": 5
}
