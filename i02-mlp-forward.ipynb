{
 "cells": [
  {
   "cell_type": "markdown",
   "id": "fd8a052c-40f2-4361-8f56-0c7062c99a6c",
   "metadata": {},
   "source": [
    "# 2. Multi Layer Perceptron - Layer as an Object\n",
    "---\n",
    "### This is an object oriented implementation of the multilayer perceptron, with each layer as an object. The Layer implementation has been generalised, and a sepcific example of a 3 layer NN has been provided. This notebook only deals with the forward pass of the NN iteration."
   ]
  },
  {
   "cell_type": "code",
   "execution_count": 96,
   "id": "e4f275f4-ce09-47ca-a1fb-b1ff3b64274f",
   "metadata": {},
   "outputs": [],
   "source": [
    "import numpy as np\n",
    "from tensorflow.keras import activations as act\n",
    "import tensorflow as tf"
   ]
  },
  {
   "cell_type": "code",
   "execution_count": 5,
   "id": "a27383a8-55c8-4289-b11b-ed016680741e",
   "metadata": {},
   "outputs": [],
   "source": [
    "def sig_der(arr):\n",
    "    return arr * (1 - arr)"
   ]
  },
  {
   "cell_type": "code",
   "execution_count": 111,
   "id": "d680aec5-983c-4608-b610-606504986a31",
   "metadata": {},
   "outputs": [],
   "source": [
    "class Layer:\n",
    "    def __init__(self, inp, wei, bias, output = False, outs = []):\n",
    "        self.input = inp\n",
    "        self.non = len(self.input)\n",
    "        self.weights = wei\n",
    "        self.bias = bias\n",
    "        self.outs = outs\n",
    "        self.output = output\n",
    "        self.grad = []\n",
    "        self.grads_next = []\n",
    "    \n",
    "    def __str__(self):\n",
    "        return f\"\"\"\n",
    "                \\n\\tNo. of nodes in layer = {self.non}\n",
    "                \\n\\tInputs = {self.input}\n",
    "                \\n\\tWeights = {self.weights}\n",
    "                \\n\\tBias = {self.bias}\n",
    "                \"\"\"\n",
    "    def calc_outs(self):\n",
    "        agg = np.dot(self.weights.T, self.input) + self.bias\n",
    "        if self.output == False:\n",
    "            self.outs = np.array(act.sigmoid(agg))\n",
    "        else:\n",
    "            self.outs = np.array(act.softmax(tf.constant(agg)))\n",
    "        return self.outs\n",
    "    \n",
    "    def pass_grads(self, arr):\n",
    "        self.grads_next = arr\n",
    "    \n",
    "    def calc_grads(self):\n",
    "        self.grads = sig_der(self.grads_next)\n",
    "    \n",
    "    def pass_grads_prev(self, prev_l):\n",
    "        prev_l.pass_grads(prev_l, self.grad)\n",
    "        "
   ]
  },
  {
   "cell_type": "markdown",
   "id": "55524e66-baa5-4caf-80ba-ab621951f3d7",
   "metadata": {
    "jp-MarkdownHeadingCollapsed": true,
    "tags": []
   },
   "source": [
    "#### EXAMPLE"
   ]
  },
  {
   "cell_type": "code",
   "execution_count": 72,
   "id": "b21a7706-4a50-49cb-89ae-adbceb3aed1f",
   "metadata": {},
   "outputs": [
    {
     "name": "stdout",
     "output_type": "stream",
     "text": [
      "\n",
      "                \n",
      "\tNo. of nodes in layer = 2\n",
      "                \n",
      "\tInputs = [[1.91684303]\n",
      " [1.74563601]]\n",
      "                \n",
      "\tWeights = [[4.63615256 4.94569195]\n",
      " [4.52213165 5.94552828]]\n",
      "                \n",
      "\tBias = [[2.04547624]\n",
      " [3.7307108 ]]\n",
      "                \n"
     ]
    }
   ],
   "source": [
    "xin = np.random.uniform(1, 5, [2, 1])\n",
    "bias0 = np.random.uniform(1, 4, [2, 1])\n",
    "wei0 = np.random.uniform(3, 7, [2, 2])\n",
    "\n",
    "l0 = Layer(xin, wei0, bias0)\n",
    "print(l0)"
   ]
  },
  {
   "cell_type": "code",
   "execution_count": 73,
   "id": "73a5c2b6-04f7-48c3-b7ea-73b1ba0d57a8",
   "metadata": {},
   "outputs": [
    {
     "name": "stdout",
     "output_type": "stream",
     "text": [
      "[[0.99999999]\n",
      " [1.        ]]\n"
     ]
    }
   ],
   "source": [
    "out0 = l0.calc_outs()\n",
    "print(out0)"
   ]
  },
  {
   "cell_type": "code",
   "execution_count": 74,
   "id": "37355ed1-3e2b-4598-9e70-421d32792ad8",
   "metadata": {},
   "outputs": [
    {
     "name": "stdout",
     "output_type": "stream",
     "text": [
      "\n",
      "                \n",
      "\tNo. of nodes in layer = 2\n",
      "                \n",
      "\tInputs = [[0.99999999]\n",
      " [1.        ]]\n",
      "                \n",
      "\tWeights = [[0.48962699 1.07138888]\n",
      " [1.23759256 0.50923617]]\n",
      "                \n",
      "\tBias = [[2.88430179]\n",
      " [2.37166986]]\n",
      "                \n"
     ]
    }
   ],
   "source": [
    "h1in = out0\n",
    "bias1 = np.random.uniform(2, 3, [2, 1])\n",
    "wei1 = np.random.uniform(0, 2, [2, 2])\n",
    "\n",
    "l1 = Layer(h1in, wei1, bias1)\n",
    "print(l1)"
   ]
  },
  {
   "cell_type": "code",
   "execution_count": 80,
   "id": "fbfb480f-8eab-4569-b9d9-244bf66df276",
   "metadata": {},
   "outputs": [
    {
     "name": "stdout",
     "output_type": "stream",
     "text": [
      "[[0.99016108]\n",
      " [0.98115153]]\n"
     ]
    }
   ],
   "source": [
    "out1 = l1.calc_outs()\n",
    "print(out1)"
   ]
  },
  {
   "cell_type": "code",
   "execution_count": 112,
   "id": "05cad713-2cab-4e99-9003-0d2ee934c107",
   "metadata": {},
   "outputs": [
    {
     "name": "stdout",
     "output_type": "stream",
     "text": [
      "\n",
      "                \n",
      "\tNo. of nodes in layer = 2\n",
      "                \n",
      "\tInputs = [[0.99016108]\n",
      " [0.98115153]]\n",
      "                \n",
      "\tWeights = [[1.45395512 1.48096459]\n",
      " [1.92434968 1.12992541]]\n",
      "                \n",
      "\tBias = [[2.17106813]]\n",
      "                \n"
     ]
    }
   ],
   "source": [
    "out_in = out1\n",
    "bias2 = np.random.uniform(0, 3, [1, 1])\n",
    "wei2 = np.random.uniform(1, 2, [2, 2])\n",
    "\n",
    "lout = Layer(out1, wei2, bias2, output = True)\n",
    "print(lout)"
   ]
  },
  {
   "cell_type": "code",
   "execution_count": 113,
   "id": "e05f765b-1dcf-4c05-a53e-57566981560e",
   "metadata": {},
   "outputs": [
    {
     "name": "stdout",
     "output_type": "stream",
     "text": [
      "[[1.]\n",
      " [1.]]\n"
     ]
    }
   ],
   "source": [
    "output_final = lout.calc_outs()\n",
    "print(output_final)"
   ]
  }
 ],
 "metadata": {
  "kernelspec": {
   "display_name": "hf",
   "language": "python",
   "name": "hf"
  },
  "language_info": {
   "codemirror_mode": {
    "name": "ipython",
    "version": 3
   },
   "file_extension": ".py",
   "mimetype": "text/x-python",
   "name": "python",
   "nbconvert_exporter": "python",
   "pygments_lexer": "ipython3",
   "version": "3.9.12"
  }
 },
 "nbformat": 4,
 "nbformat_minor": 5
}
